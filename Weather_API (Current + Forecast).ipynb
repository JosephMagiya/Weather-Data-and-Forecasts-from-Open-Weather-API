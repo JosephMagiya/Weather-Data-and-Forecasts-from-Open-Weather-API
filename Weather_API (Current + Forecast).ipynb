{
 "cells": [
  {
   "cell_type": "code",
   "execution_count": null,
   "metadata": {},
   "outputs": [],
   "source": [
    "import requests\n",
    "import pandas as pd"
   ]
  },
  {
   "cell_type": "code",
   "execution_count": null,
   "metadata": {},
   "outputs": [],
   "source": [
    "pd.options.display.max_columns = None\n",
    "pd.options.display.max_rows = None"
   ]
  },
  {
   "cell_type": "markdown",
   "metadata": {},
   "source": [
    "# Current Weather"
   ]
  },
  {
   "cell_type": "markdown",
   "metadata": {},
   "source": [
    " ### Using Coordinates"
   ]
  },
  {
   "cell_type": "markdown",
   "metadata": {},
   "source": [
    "Current Weather Format (Coordinates) - api.openweathermap.org/data/2.5/weather?lat={lat}&lon={lon}&appid={your api key}"
   ]
  },
  {
   "cell_type": "code",
   "execution_count": null,
   "metadata": {},
   "outputs": [],
   "source": [
    "lat = -1.2999792\n",
    "long = 36.7728897\n",
    "lat_long = \"lat=\" + str(lat)+ \"&lon=\" + str(long)"
   ]
  },
  {
   "cell_type": "code",
   "execution_count": null,
   "metadata": {},
   "outputs": [],
   "source": [
    "coord_API_endpoint = \"http://api.openweathermap.org/data/2.5/weather?\"\n",
    "lat_long = \"lat=\" + str(lat)+ \"&lon=\" + str(long)\n",
    "join_key = \"&appid=\" + \"your_API_Key\"\n",
    "units = \"&units=metric\""
   ]
  },
  {
   "cell_type": "code",
   "execution_count": null,
   "metadata": {},
   "outputs": [],
   "source": [
    "current_coord_weather_url = coord_API_endpoint + lat_long + join_key + units"
   ]
  },
  {
   "cell_type": "code",
   "execution_count": null,
   "metadata": {},
   "outputs": [],
   "source": [
    "print(current_coord_weather_url)"
   ]
  },
  {
   "cell_type": "markdown",
   "metadata": {},
   "source": [
    "### Using City Name"
   ]
  },
  {
   "cell_type": "markdown",
   "metadata": {},
   "source": [
    "Current Weather Format (City) - api.openweathermap.org/data/2.5/weather?q={city name},{state},{country code}&appid={your api key}"
   ]
  },
  {
   "cell_type": "code",
   "execution_count": null,
   "metadata": {},
   "outputs": [],
   "source": [
    "City_API_endpoint = \"http://api.openweathermap.org/data/2.5/weather?q=\"\n",
    "City = \"Nairobi\"\n",
    "Country = \",KE,\"\n",
    "join_key = \"&appid=\" + \"your_API_Key\"\n",
    "units = \"&units=metric\""
   ]
  },
  {
   "cell_type": "code",
   "execution_count": null,
   "metadata": {},
   "outputs": [],
   "source": [
    "current_city_weather = City_API_endpoint + City + Country + join_key + units"
   ]
  },
  {
   "cell_type": "code",
   "execution_count": null,
   "metadata": {},
   "outputs": [],
   "source": [
    "print(current_city_weather)"
   ]
  },
  {
   "cell_type": "markdown",
   "metadata": {},
   "source": [
    "# Reading the Data"
   ]
  },
  {
   "cell_type": "code",
   "execution_count": null,
   "metadata": {},
   "outputs": [],
   "source": [
    "json_data = requests.get(current_coord_weather_url).json()"
   ]
  },
  {
   "cell_type": "code",
   "execution_count": null,
   "metadata": {},
   "outputs": [],
   "source": [
    "print(json_data)"
   ]
  },
  {
   "cell_type": "markdown",
   "metadata": {},
   "source": [
    "# Putting The Data into a DataFrame"
   ]
  },
  {
   "cell_type": "code",
   "execution_count": null,
   "metadata": {},
   "outputs": [],
   "source": [
    "df_all_current_weather = pd.DataFrame()\n",
    "prediction_num = 0"
   ]
  },
  {
   "cell_type": "code",
   "execution_count": null,
   "metadata": {},
   "outputs": [],
   "source": [
    "# Create empty lists to store the JSON Data\n",
    "current_weather_id = []\n",
    "current_time = []\n",
    "own_city_id = []\n",
    "city = []\n",
    "latitude = []\n",
    "longitude = []\n",
    "country = []\n",
    "timezone = []\n",
    "sunrise = []\n",
    "sunset = []\n",
    "temperature = []\n",
    "temperature_feel = []\n",
    "temperature_min = []\n",
    "temperature_max = []\n",
    "pressure = []\n",
    "humidity = []\n",
    "main = []\n",
    "main_description = []\n",
    "clouds = []\n",
    "wind_speed = []\n",
    "wind_degree = []\n",
    "visibility = []"
   ]
  },
  {
   "cell_type": "code",
   "execution_count": null,
   "metadata": {},
   "outputs": [],
   "source": [
    "# Add JSON Data to the lists\n",
    "prediction_num +=1\n",
    "current_weather_id.append(prediction_num + 1)\n",
    "current_time.append(pd.Timestamp.now())\n",
    "own_city_id.append(json_data['id'])\n",
    "city.append(json_data['name'])\n",
    "latitude.append(json_data['coord']['lat'])\n",
    "longitude.append(json_data['coord']['lon'])\n",
    "country.append(json_data['sys']['country'])\n",
    "if json_data['timezone'] >0 :\n",
    "    timezone.append((\"+\" + str((json_data['timezone'])/3600)))\n",
    "else:\n",
    "    timezone.append(((json_data['timezone'])/3600))\n",
    "sunrise.append(json_data['sys']['sunrise'])\n",
    "sunset.append(json_data['sys']['sunset'])\n",
    "temperature.append(json_data['main']['temp'])\n",
    "temperature_feel.append(json_data['main']['feels_like'])\n",
    "temperature_min.append(json_data['main']['temp_min'])\n",
    "temperature_max.append(json_data['main']['temp_max'])\n",
    "pressure.append(json_data['main']['pressure'])\n",
    "humidity.append(json_data['main']['humidity'])\n",
    "main.append(json_data['weather'][0]['main'])\n",
    "main_description.append(json_data['weather'][0]['description'])\n",
    "clouds.append(json_data['clouds']['all'])\n",
    "wind_speed.append(json_data['wind']['speed'])\n",
    "wind_degree.append(json_data['wind']['deg'])\n",
    "visibility.append(json_data['visibility'])"
   ]
  },
  {
   "cell_type": "code",
   "execution_count": null,
   "metadata": {},
   "outputs": [],
   "source": [
    "# Write Lists to DataFrame\n",
    "df_all_current_weather['current_weather_id'] = current_weather_id\n",
    "df_all_current_weather['current_time'] = current_time\n",
    "df_all_current_weather['own_city_id'] = own_city_id\n",
    "df_all_current_weather['city'] = city\n",
    "df_all_current_weather['latitude'] = latitude\n",
    "df_all_current_weather['longitude'] = longitude\n",
    "df_all_current_weather['country'] = country\n",
    "df_all_current_weather['timezone'] = timezone\n",
    "df_all_current_weather['sunrise'] = sunrise\n",
    "df_all_current_weather['sunset'] = sunset\n",
    "df_all_current_weather['temperature'] = temperature\n",
    "df_all_current_weather['temperature_feel'] = temperature_feel\n",
    "df_all_current_weather['temperature_min'] = temperature_min\n",
    "df_all_current_weather['temperature_max'] = temperature_max\n",
    "df_all_current_weather['pressure'] = pressure\n",
    "df_all_current_weather['humidity'] = humidity\n",
    "df_all_current_weather['main'] = main\n",
    "df_all_current_weather['main_description'] = main_description\n",
    "df_all_current_weather['clouds'] = clouds\n",
    "df_all_current_weather['wind_speed'] = wind_speed\n",
    "df_all_current_weather['wind_degree'] = wind_degree\n",
    "df_all_current_weather['visibility'] = visibility"
   ]
  },
  {
   "cell_type": "code",
   "execution_count": null,
   "metadata": {},
   "outputs": [],
   "source": [
    "df_all_current_weather.head(5)"
   ]
  },
  {
   "cell_type": "markdown",
   "metadata": {},
   "source": [
    "# Forecast"
   ]
  },
  {
   "cell_type": "markdown",
   "metadata": {},
   "source": [
    "### Forecast Data Using Coordinates"
   ]
  },
  {
   "cell_type": "markdown",
   "metadata": {},
   "source": [
    "Format - api.openweathermap.org/data/2.5/forecast?lat={lat}&lon={lon}&appid={your api key}"
   ]
  },
  {
   "cell_type": "code",
   "execution_count": null,
   "metadata": {},
   "outputs": [],
   "source": [
    "lat = -1.2999792\n",
    "long = 36.7728897\n",
    "lat_long = \"lat=\" + str(lat)+ \"&lon=\" + str(long)"
   ]
  },
  {
   "cell_type": "code",
   "execution_count": null,
   "metadata": {},
   "outputs": [],
   "source": [
    "coord_API_endpoint = \"http://api.openweathermap.org/data/2.5/forecast?\"\n",
    "lat_long = \"lat=\" + str(lat)+ \"&lon=\" + str(long)\n",
    "join_key = \"&appid=\" + \"your_API_Key\"\n",
    "units = \"&units=metric\""
   ]
  },
  {
   "cell_type": "code",
   "execution_count": null,
   "metadata": {},
   "outputs": [],
   "source": [
    "forecast_coord_weather_url = coord_API_endpoint + lat_long + join_key + units"
   ]
  },
  {
   "cell_type": "code",
   "execution_count": null,
   "metadata": {},
   "outputs": [],
   "source": [
    "print (forecast_coord_weather_url)"
   ]
  },
  {
   "cell_type": "markdown",
   "metadata": {},
   "source": [
    "### By City Name"
   ]
  },
  {
   "cell_type": "markdown",
   "metadata": {},
   "source": [
    "Format - api.openweathermap.org/data/2.5/forecast?q={city name},{state},{country code}&appid={your api key}"
   ]
  },
  {
   "cell_type": "code",
   "execution_count": null,
   "metadata": {},
   "outputs": [],
   "source": [
    "City_API_endpoint = \"http://api.openweathermap.org/data/2.5/forecast?q=\"\n",
    "City = \"Nairobi\"\n",
    "Country = \",KE,\"\n",
    "join_key = \"&appid=\" + \"your_API_Key\"\n",
    "units = \"&units=metric\""
   ]
  },
  {
   "cell_type": "code",
   "execution_count": null,
   "metadata": {},
   "outputs": [],
   "source": [
    "city_forecast = City_API_endpoint + City + Country + join_key + units"
   ]
  },
  {
   "cell_type": "code",
   "execution_count": null,
   "metadata": {},
   "outputs": [],
   "source": [
    "print(city_forecast)"
   ]
  },
  {
   "cell_type": "markdown",
   "metadata": {},
   "source": [
    "# Requesting for the Forecast Weather Data"
   ]
  },
  {
   "cell_type": "code",
   "execution_count": null,
   "metadata": {},
   "outputs": [],
   "source": [
    "forecast_json_data = requests.get(city_forecast).json()"
   ]
  },
  {
   "cell_type": "code",
   "execution_count": null,
   "metadata": {},
   "outputs": [],
   "source": [
    "print (forecast_json_data)"
   ]
  },
  {
   "cell_type": "code",
   "execution_count": null,
   "metadata": {},
   "outputs": [],
   "source": [
    "# forecast_main = forecast_json_data['weather'][0]['main']\n",
    "# forecast_main_description = forecast_json_data['weather'][0]['description']\n",
    "# forecast_temperature = forecast_json_data['main']['temp']\n",
    "# forecast_temperature_feel = forecast_json_data['main']['feels_like']\n",
    "# forecast_temperature_min = forecast_json_data['main']['temp_min']\n",
    "# forecast_temperature_max = forecast_json_data['main']['temp_max']\n",
    "# forecast_pressure = forecast_json_data['main']['pressure']\n",
    "# forecast_humidity = forecast_json_data['main']['humidity']\n",
    "# forecast_visibility = forecast_json_data['visibility']\n",
    "# forecast_wind_speed = forecast_json_data['wind']['speed']\n",
    "# forecast_wind_degree = forecast_json_data['wind']['deg']"
   ]
  },
  {
   "cell_type": "code",
   "execution_count": null,
   "metadata": {},
   "outputs": [],
   "source": [
    "forecast_main = forecast_json_data['list'][0]['main']"
   ]
  },
  {
   "cell_type": "code",
   "execution_count": null,
   "metadata": {},
   "outputs": [],
   "source": [
    "num_forecasts = len(forecast_json_data['list'])\n",
    "num_forecasts"
   ]
  },
  {
   "cell_type": "code",
   "execution_count": null,
   "metadata": {},
   "outputs": [],
   "source": [
    "forecast_json_data['city']"
   ]
  },
  {
   "cell_type": "markdown",
   "metadata": {},
   "source": [
    "# Putting The Current Weather Data into a Pandas Data Frame"
   ]
  },
  {
   "cell_type": "code",
   "execution_count": null,
   "metadata": {},
   "outputs": [],
   "source": [
    "df_predictions = pd.DataFrame()"
   ]
  },
  {
   "cell_type": "code",
   "execution_count": null,
   "metadata": {},
   "outputs": [],
   "source": [
    "# Creating empty lists\n",
    "prediction_num = 0\n",
    "list_prediction_num = []\n",
    "date_time_prediction = []\n",
    "owm_city_id = []\n",
    "city_name = []\n",
    "latitude = []\n",
    "longitude = []\n",
    "country_name = []\n",
    "population = []\n",
    "timezone = [] # Shift in seconds from UTC\n",
    "sunrise = []\n",
    "sunset = []\n",
    "# Main\n",
    "temp_prediction = []\n",
    "temp_feels_like_prediction = []\n",
    "temp_min_prediction = []\n",
    "temp_max_prediction = []\n",
    "pressure_prediction = []\n",
    "sea_level_prediction = []\n",
    "grnd_level_prediction = []\n",
    "humidity_prediction = []\n",
    "temp_kf_prediction = []\n",
    "# Weather\n",
    "main_weather_prediction = []\n",
    "main_weather_description_prediction = []\n",
    "# Clouds\n",
    "clouds_prediction = []\n",
    "# Wind\n",
    "wind_speed_prediction = []\n",
    "wind_degree_prediction = []"
   ]
  },
  {
   "cell_type": "code",
   "execution_count": null,
   "metadata": {},
   "outputs": [],
   "source": [
    "# Loop Through the JSON\n",
    "for num_forecasts in forecast_json_data['list']:\n",
    "    df_predictions['prediction_num'] = prediction_num\n",
    "    list_prediction_num.append(prediction_num)\n",
    "    date_time_prediction.append(forecast_json_data['list'][prediction_num]['dt_txt'])\n",
    "    \n",
    "    owm_city_id.append(forecast_json_data['city']['id'])\n",
    "    city_name.append(forecast_json_data['city']['name'])\n",
    "    latitude.append(forecast_json_data['city']['coord']['lat'])\n",
    "    longitude.append(forecast_json_data['city']['coord']['lon'])\n",
    "    country_name.append(forecast_json_data['city']['country'])\n",
    "    population.append(forecast_json_data['city']['population'])\n",
    "    \n",
    "    if forecast_json_data['city']['timezone'] >0 :\n",
    "        timezone.append(\"+\" + str((forecast_json_data['city']['timezone'])/3600))\n",
    "    else:\n",
    "        timezone.append((forecast_json_data['city']['timezone'])/3600)\n",
    "        \n",
    "    sunrise.append(forecast_json_data['city']['sunrise'])\n",
    "    sunset.append(forecast_json_data['city']['sunset'])\n",
    "    \n",
    "    # Main\n",
    "    temp_prediction.append(forecast_json_data['list'][prediction_num]['main']['temp'])\n",
    "    temp_feels_like_prediction.append(forecast_json_data['list'][prediction_num]['main']['feels_like'])\n",
    "    temp_min_prediction.append(forecast_json_data['list'][prediction_num]['main']['temp_min'])\n",
    "    temp_max_prediction.append(forecast_json_data['list'][prediction_num]['main']['temp_max'])\n",
    "    pressure_prediction.append(forecast_json_data['list'][prediction_num]['main']['pressure'])\n",
    "    sea_level_prediction.append(forecast_json_data['list'][prediction_num]['main']['sea_level'])\n",
    "    grnd_level_prediction.append(forecast_json_data['list'][prediction_num]['main']['grnd_level'])\n",
    "    humidity_prediction.append(forecast_json_data['list'][prediction_num]['main']['humidity'])\n",
    "    temp_kf_prediction.append(forecast_json_data['list'][prediction_num]['main']['temp_kf'])\n",
    "    # Weather\n",
    "    main_weather_prediction.append(forecast_json_data['list'][prediction_num]['weather'][0]['main'])\n",
    "    main_weather_description_prediction.append(forecast_json_data['list'][prediction_num]['weather'][0]['description'])\n",
    "    # Clouds\n",
    "    clouds_prediction.append(forecast_json_data['list'][prediction_num]['clouds']['all'])\n",
    "    # Wind\n",
    "    wind_speed_prediction.append(forecast_json_data['list'][prediction_num]['wind']['speed'])\n",
    "    wind_degree_prediction.append(forecast_json_data['list'][prediction_num]['wind']['deg'])\n",
    "    \n",
    "    prediction_num += 1"
   ]
  },
  {
   "cell_type": "code",
   "execution_count": null,
   "metadata": {},
   "outputs": [],
   "source": [
    "# Put data into a dataframe\n",
    "df_predictions['prediction_num'] = list_prediction_num\n",
    "df_predictions['date_time_prediction'] = date_time_prediction\n",
    "df_predictions['owm_city_id'] = owm_city_id\n",
    "df_predictions['city_name'] = city_name\n",
    "df_predictions['latitude'] = latitude\n",
    "df_predictions['longitude'] = longitude\n",
    "df_predictions['country_name'] = country_name\n",
    "df_predictions['population'] = population\n",
    "df_predictions['timezone'] = timezone\n",
    "df_predictions['sunrise'] = sunrise\n",
    "df_predictions['sunset'] = sunset\n",
    "\n",
    "    # Main\n",
    "df_predictions['temp_prediction'] = temp_prediction\n",
    "df_predictions['temp_feels_like_prediction'] = temp_feels_like_prediction\n",
    "df_predictions['temp_min_prediction'] = temp_min_prediction\n",
    "df_predictions['temp_max_prediction'] = temp_max_prediction\n",
    "df_predictions['pressure_prediction'] = pressure_prediction\n",
    "df_predictions['sea_level_prediction'] = sea_level_prediction\n",
    "df_predictions['grnd_level_prediction'] = grnd_level_prediction\n",
    "df_predictions['humidity_prediction'] = humidity_prediction\n",
    "df_predictions['temp_kf_prediction'] = temp_kf_prediction\n",
    "    # Weather\n",
    "df_predictions['main_weather_prediction'] = main_weather_prediction\n",
    "df_predictions['main_weather_description_prediction'] = main_weather_description_prediction\n",
    "    # Clouds\n",
    "df_predictions['clouds_prediction'] = clouds_prediction\n",
    "    # Wind\n",
    "df_predictions['wind_speed_prediction'] = wind_speed_prediction\n",
    "df_predictions['wind_degree_prediction'] = wind_degree_prediction"
   ]
  },
  {
   "cell_type": "code",
   "execution_count": null,
   "metadata": {},
   "outputs": [],
   "source": [
    "df_predictions.head()"
   ]
  }
 ],
 "metadata": {
  "kernelspec": {
   "display_name": "Python 3",
   "language": "python",
   "name": "python3"
  },
  "language_info": {
   "codemirror_mode": {
    "name": "ipython",
    "version": 3
   },
   "file_extension": ".py",
   "mimetype": "text/x-python",
   "name": "python",
   "nbconvert_exporter": "python",
   "pygments_lexer": "ipython3",
   "version": "3.7.1"
  }
 },
 "nbformat": 4,
 "nbformat_minor": 2
}
